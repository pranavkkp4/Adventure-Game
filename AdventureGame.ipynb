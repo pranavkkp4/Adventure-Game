{
 "cells": [
  {
   "cell_type": "code",
   "execution_count": null,
   "id": "c64aebba-80d5-46d5-ab72-0c6993e2fcf8",
   "metadata": {},
   "outputs": [
    {
     "name": "stdin",
     "output_type": "stream",
     "text": [
      "Enter your name:  Bob\n"
     ]
    },
    {
     "name": "stdout",
     "output_type": "stream",
     "text": [
      "You are in the starting room. There are exits to the north and east.\n"
     ]
    },
    {
     "name": "stdin",
     "output_type": "stream",
     "text": [
      "Enter a command (move/check inventory/attack/run):  move\n",
      "Enter a direction (north/south/east/west):  north\n"
     ]
    },
    {
     "name": "stdout",
     "output_type": "stream",
     "text": [
      "You moved north. You are now in north_room.\n",
      "You are in the north room. There is an exit to the south.\n",
      "You are in the north room. There is an exit to the south.\n"
     ]
    },
    {
     "name": "stdin",
     "output_type": "stream",
     "text": [
      "Enter a command (move/check inventory/attack/run):  run\n"
     ]
    },
    {
     "name": "stdout",
     "output_type": "stream",
     "text": [
      "You run away!\n",
      "You are in the north room. There is an exit to the south.\n"
     ]
    },
    {
     "name": "stdin",
     "output_type": "stream",
     "text": [
      "Enter a command (move/check inventory/attack/run):  check inventory\n"
     ]
    },
    {
     "name": "stdout",
     "output_type": "stream",
     "text": [
      "Your inventory is empty.\n",
      "You are in the north room. There is an exit to the south.\n"
     ]
    }
   ],
   "source": [
    "import random\n",
    "\n",
    "class Player:\n",
    "    def __init__(self, name):\n",
    "        self.name = name\n",
    "        self.health = 100\n",
    "        self.location = 'start'\n",
    "        self.inventory = []\n",
    "\n",
    "    def move(self, direction):\n",
    "        if direction in rooms[self.location]:\n",
    "            self.location = rooms[self.location][direction]\n",
    "            print(f\"You moved {direction}. You are now in {self.location}.\")\n",
    "            self.explore()\n",
    "        else:\n",
    "            print(\"You can't go that way!\")\n",
    "\n",
    "    def explore(self):\n",
    "        if self.location == 'start':\n",
    "            print(\"You are in the starting room. There are exits to the north and east.\")\n",
    "        elif self.location == 'north_room':\n",
    "            print(\"You are in the north room. There is an exit to the south.\")\n",
    "        elif self.location == 'east_room':\n",
    "            print(\"You are in the east room. There is an exit to the west.\")\n",
    "        elif self.location == 'treasure_room':\n",
    "            print(\"You found the treasure room! Congratulations, you win!\")\n",
    "            exit()\n",
    "        else:\n",
    "            print(\"You are in a mysterious room. You don't see any exits.\")\n",
    "\n",
    "    def check_inventory(self):\n",
    "        if self.inventory:\n",
    "            print(f\"Inventory: {', '.join(self.inventory)}\")\n",
    "        else:\n",
    "            print(\"Your inventory is empty.\")\n",
    "\n",
    "    def attack(self):\n",
    "        print(\"You swing your sword!\")\n",
    "\n",
    "    def run(self):\n",
    "        print(\"You run away!\")\n",
    "\n",
    "# Define the game map (rooms and connections)\n",
    "rooms = {\n",
    "    'start': {'north': 'north_room', 'east': 'east_room'},\n",
    "    'north_room': {'south': 'start'},\n",
    "    'east_room': {'west': 'start', 'north': 'treasure_room'},\n",
    "    'treasure_room': {}\n",
    "}\n",
    "\n",
    "# Initialize the player\n",
    "player_name = input(\"Enter your name: \")\n",
    "player = Player(player_name)\n",
    "\n",
    "# Game loop\n",
    "while True:\n",
    "    player.explore()\n",
    "    command = input(\"Enter a command (move/check inventory/attack/run): \").lower()\n",
    "\n",
    "    if command == 'move':\n",
    "        direction = input(\"Enter a direction (north/south/east/west): \").lower()\n",
    "        player.move(direction)\n",
    "    elif command == 'check inventory':\n",
    "        player.check_inventory()\n",
    "    elif command == 'attack':\n",
    "        player.attack()\n",
    "    elif command == 'run':\n",
    "        player.run()\n",
    "    else:\n",
    "        print(\"Invalid command. Try again.\")\n"
   ]
  }
 ],
 "metadata": {
  "kernelspec": {
   "display_name": "Python 3 (ipykernel)",
   "language": "python",
   "name": "python3"
  },
  "language_info": {
   "codemirror_mode": {
    "name": "ipython",
    "version": 3
   },
   "file_extension": ".py",
   "mimetype": "text/x-python",
   "name": "python",
   "nbconvert_exporter": "python",
   "pygments_lexer": "ipython3",
   "version": "3.10.8"
  }
 },
 "nbformat": 4,
 "nbformat_minor": 5
}
